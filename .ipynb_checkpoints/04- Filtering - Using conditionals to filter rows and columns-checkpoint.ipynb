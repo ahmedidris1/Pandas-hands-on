{
 "cells": [
  {
   "cell_type": "markdown",
   "id": "b024526c",
   "metadata": {},
   "source": [
    "In this notebook we are going to learn how to filter data from a `DataFrame` and from a `Series`. And for that we are going the same data snippet from the previous sections with small changes as follows."
   ]
  },
  {
   "cell_type": "code",
   "execution_count": null,
   "id": "e759a64a",
   "metadata": {},
   "outputs": [],
   "source": [
    "people = {\n",
    "    \"first\": ['John', 'Jane', 'Joe'],\n",
    "    \"last\": ['Doe', 'Doe', 'Rogan'],\n",
    "    \"email\": ['johndoe@email.com', 'janedoe@email.com', 'joerogan@email.com']\n",
    "}"
   ]
  }
 ],
 "metadata": {
  "kernelspec": {
   "display_name": "Python 3 (ipykernel)",
   "language": "python",
   "name": "python3"
  },
  "language_info": {
   "codemirror_mode": {
    "name": "ipython",
    "version": 3
   },
   "file_extension": ".py",
   "mimetype": "text/x-python",
   "name": "python",
   "nbconvert_exporter": "python",
   "pygments_lexer": "ipython3",
   "version": "3.8.10"
  }
 },
 "nbformat": 4,
 "nbformat_minor": 5
}
